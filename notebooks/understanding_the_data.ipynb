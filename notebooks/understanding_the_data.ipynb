{
 "cells": [
  {
   "cell_type": "code",
   "execution_count": 1,
   "metadata": {},
   "outputs": [],
   "source": [
    "import os\n",
    "import sys\n",
    "import pandas as pd\n",
    "import numpy as np\n",
    "import scipy\n",
    "import scipy.io as sio\n",
    "import matplotlib.pyplot as plt\n",
    "import seaborn as sns"
   ]
  },
  {
   "cell_type": "code",
   "execution_count": 2,
   "metadata": {},
   "outputs": [
    {
     "data": {
      "text/plain": [
       "['coverFigure.png',\n",
       " 'dataSharing.pdf',\n",
       " 'dbori32.mat',\n",
       " 'dbspont.mat',\n",
       " 'dbstimspont.mat',\n",
       " 'ori32_M160825_MP027_20161215.mat',\n",
       " 'ori32_M161025_MP030_20170625.mat',\n",
       " 'ori32_M170604_MP031_20170626.mat',\n",
       " 'ori32_M170714_MP032_20170802.mat',\n",
       " 'ori32_M170717_MP033_20170817.mat',\n",
       " 'spont_M150824_MP019_20160405.mat',\n",
       " 'spont_M160825_MP027_20161212.mat',\n",
       " 'spont_M160907_MP028_20160926.mat',\n",
       " 'spont_M161025_MP030_20161120.mat',\n",
       " 'spont_M161025_MP030_20170616.mat',\n",
       " 'spont_M161025_MP030_20170623.mat',\n",
       " 'spont_M170714_MP032_20170804.mat',\n",
       " 'spont_M170717_MP033_20170818.mat',\n",
       " 'spont_M170717_MP034_20170825.mat',\n",
       " 'stimspont_M150824_MP019_20160323.mat',\n",
       " 'stimspont_M170604_MP031_20170627.mat',\n",
       " 'stimspont_M170714_MP032_20170801.mat',\n",
       " 'stimspont_M170717_MP033_20170825.mat']"
      ]
     },
     "execution_count": 2,
     "metadata": {},
     "output_type": "execute_result"
    }
   ],
   "source": [
    "datafolder = \"D:\\\\neuroscienceresources\\\\datasets\\\\Dataset_2018a\\\\\"\n",
    "os.listdir(datafolder)"
   ]
  },
  {
   "cell_type": "markdown",
   "metadata": {},
   "source": [
    "# Understanding the content and structure of the \"spont_*.mat\""
   ]
  },
  {
   "cell_type": "code",
   "execution_count": 3,
   "metadata": {},
   "outputs": [],
   "source": [
    "mt = sio.loadmat(f'{datafolder}spont_M150824_MP019_20160405.mat')"
   ]
  },
  {
   "cell_type": "code",
   "execution_count": 4,
   "metadata": {},
   "outputs": [
    {
     "data": {
      "text/plain": [
       "dict"
      ]
     },
     "execution_count": 4,
     "metadata": {},
     "output_type": "execute_result"
    }
   ],
   "source": [
    "type(mt)"
   ]
  },
  {
   "cell_type": "code",
   "execution_count": 5,
   "metadata": {},
   "outputs": [
    {
     "data": {
      "text/plain": [
       "dict_keys(['__header__', '__version__', '__globals__', 'Fsp', 'beh', 'db', 'med', 'stat'])"
      ]
     },
     "execution_count": 5,
     "metadata": {},
     "output_type": "execute_result"
    }
   ],
   "source": [
    "mt.keys()"
   ]
  },
  {
   "cell_type": "code",
   "execution_count": 6,
   "metadata": {},
   "outputs": [
    {
     "name": "stdout",
     "output_type": "stream",
     "text": [
      "b'MATLAB 5.0 MAT-file, Platform: PCWIN64, Created on: Thu Apr 19 15:10:31 2018'\n",
      "1.0\n",
      "[]\n"
     ]
    }
   ],
   "source": [
    "for key in '__header__', '__version__', '__globals__' :\n",
    "    print(mt[key])"
   ]
  },
  {
   "cell_type": "markdown",
   "metadata": {},
   "source": [
    "### Fsp contains spike information for the neurons from what I understand. Looking at the array, it seems like average number of spikes at each time bin over multiple repeats, or something like that ? So, each row represents the PSTH of that neuron ?"
   ]
  },
  {
   "cell_type": "code",
   "execution_count": 7,
   "metadata": {},
   "outputs": [
    {
     "data": {
      "text/plain": [
       "(11983, 21055)"
      ]
     },
     "execution_count": 7,
     "metadata": {},
     "output_type": "execute_result"
    }
   ],
   "source": [
    "spks = mt['Fsp']\n",
    "spks.shape"
   ]
  },
  {
   "cell_type": "code",
   "execution_count": 8,
   "metadata": {},
   "outputs": [
    {
     "data": {
      "text/plain": [
       "array([0.     , 8.94625, 0.     , ..., 0.     , 0.     , 0.     ],\n",
       "      dtype=float32)"
      ]
     },
     "execution_count": 8,
     "metadata": {},
     "output_type": "execute_result"
    }
   ],
   "source": [
    "spks[0]"
   ]
  },
  {
   "cell_type": "code",
   "execution_count": 15,
   "metadata": {},
   "outputs": [
    {
     "data": {
      "image/png": "[encoded data removed]",
      "text/plain": [
       "<Figure size 1000x500 with 1 Axes>"
      ]
     },
     "metadata": {},
     "output_type": "display_data"
    }
   ],
   "source": [
    "fig,ax = plt.subplots(figsize=(10, 5))\n",
    "\n",
    "### plot subset of points\n",
    "len_plot = 100\n",
    "\n",
    "### plot subset of neurons\n",
    "len_neurons = 10\n",
    "\n",
    "for i in range(len_neurons):\n",
    "    ax.bar(\n",
    "        x=np.arange(len_plot), \n",
    "        height = spks[i][:len_plot]/(max(spks[i][:len_plot])+5), \n",
    "        y = i, \n",
    "        width=1,\n",
    "        align=\"edge\",\n",
    "        color=\"tab:blue\",\n",
    "        ec=\"k\",\n",
    "        lw=0.5\n",
    "    );\n",
    "ax.set_yticks([]);\n",
    "ax.set_yticks([], minor=True);"
   ]
  },
  {
   "cell_type": "markdown",
   "metadata": {},
   "source": [
    "### med contains the x,y,z coordinates of the cell centers. Not sure what the scale is here, or if it matters at all - need to ask"
   ]
  },
  {
   "cell_type": "code",
   "execution_count": 17,
   "metadata": {},
   "outputs": [
    {
     "data": {
      "text/plain": [
       "array([[174,   6,  70],\n",
       "       [220,   4,  70],\n",
       "       [ 18,  16,  70],\n",
       "       ...,\n",
       "       [806, 510, 350],\n",
       "       [944, 638, 350],\n",
       "       [938, 978, 350]], dtype=uint16)"
      ]
     },
     "execution_count": 17,
     "metadata": {},
     "output_type": "execute_result"
    }
   ],
   "source": [
    "med = mt[\"med\"]\n",
    "med"
   ]
  },
  {
   "cell_type": "markdown",
   "metadata": {},
   "source": [
    "### beh contains the behavioral variables face, whisker, eye, pupil, runSpeed, runAngle"
   ]
  },
  {
   "cell_type": "code",
   "execution_count": 70,
   "metadata": {},
   "outputs": [
    {
     "data": {
      "text/plain": [
       "('face', 'whisker', 'eye', 'pupil', 'runSpeed', 'runAngle')"
      ]
     },
     "execution_count": 70,
     "metadata": {},
     "output_type": "execute_result"
    }
   ],
   "source": [
    "beh = mt[\"beh\"]\n",
    "beh.dtype.names"
   ]
  },
  {
   "cell_type": "code",
   "execution_count": 58,
   "metadata": {},
   "outputs": [
    {
     "data": {
      "text/plain": [
       "(21055, 1)"
      ]
     },
     "execution_count": 58,
     "metadata": {},
     "output_type": "execute_result"
    }
   ],
   "source": [
    "beh[0][\"runSpeed\"][0].shape"
   ]
  },
  {
   "cell_type": "code",
   "execution_count": 56,
   "metadata": {},
   "outputs": [
    {
     "data": {
      "text/plain": [
       "((21055, 1), (21055, 2))"
      ]
     },
     "execution_count": 56,
     "metadata": {},
     "output_type": "execute_result"
    }
   ],
   "source": [
    "beh[0][\"pupil\"][0][\"area\"][0][0].shape, beh[0][\"pupil\"][0][\"com\"][0][0].shape"
   ]
  },
  {
   "cell_type": "code",
   "execution_count": 50,
   "metadata": {},
   "outputs": [
    {
     "data": {
      "text/plain": [
       "(21055, 500)"
      ]
     },
     "execution_count": 50,
     "metadata": {},
     "output_type": "execute_result"
    }
   ],
   "source": [
    "beh[0][\"eye\"][0][\"motionSVD\"][0][0].shape"
   ]
  },
  {
   "cell_type": "code",
   "execution_count": 49,
   "metadata": {},
   "outputs": [
    {
     "data": {
      "text/plain": [
       "(21055, 500)"
      ]
     },
     "execution_count": 49,
     "metadata": {},
     "output_type": "execute_result"
    }
   ],
   "source": [
    "beh[0][\"whisker\"][0][\"motionSVD\"][0][0].shape"
   ]
  },
  {
   "cell_type": "code",
   "execution_count": 48,
   "metadata": {},
   "outputs": [
    {
     "data": {
      "text/plain": [
       "(216, 304, 500)"
      ]
     },
     "execution_count": 48,
     "metadata": {},
     "output_type": "execute_result"
    }
   ],
   "source": [
    "beh[0][\"whisker\"][0][\"motionMask\"][0][0].shape"
   ]
  },
  {
   "cell_type": "code",
   "execution_count": 67,
   "metadata": {},
   "outputs": [
    {
     "data": {
      "text/plain": [
       "((21055, 1000), (240, 320, 1000), (240, 320))"
      ]
     },
     "execution_count": 67,
     "metadata": {},
     "output_type": "execute_result"
    }
   ],
   "source": [
    "beh[0][\"face\"][0][\"motionSVD\"][0][0].shape, beh[0][\"face\"][0][\"motionMask\"][0][0].shape, beh[0][\"face\"][0][\"avgframe\"][0][0].shape"
   ]
  },
  {
   "cell_type": "markdown",
   "metadata": {},
   "source": [
    "### stat contains cell statistics. I don't think I understand all the names right away. Guessing -> npix is the number of neuropixels ? ipix is the index of those neuropixels ? xpix and ypix are their x,y coordinates ? No idea what lam and lambda are, but they seem to have the same values. med is probably median value of the xpix and ypix ? "
   ]
  },
  {
   "cell_type": "code",
   "execution_count": 97,
   "metadata": {},
   "outputs": [
    {
     "data": {
      "text/plain": [
       "('ipix',\n",
       " 'ypix',\n",
       " 'xpix',\n",
       " 'lam',\n",
       " 'lambda',\n",
       " 'npix',\n",
       " 'med',\n",
       " 'neuropilCoefficient',\n",
       " 'baseline',\n",
       " 'footprint',\n",
       " 'mrs',\n",
       " 'mrs0',\n",
       " 'cmpct',\n",
       " 'aspect_ratio',\n",
       " 'ellipse',\n",
       " 'mimgProj',\n",
       " 'mimgProjAbs',\n",
       " 'isoverlap',\n",
       " 'radius',\n",
       " 'ipix_neuropil',\n",
       " 'dFstat',\n",
       " 'skew',\n",
       " 'std',\n",
       " 'maxMinusMed',\n",
       " 'top5pcMinusMed',\n",
       " 'blockstarts',\n",
       " 'iplane',\n",
       " 'iscell',\n",
       " 'noiseLevel')"
      ]
     },
     "execution_count": 97,
     "metadata": {},
     "output_type": "execute_result"
    }
   ],
   "source": [
    "mt['stat'].dtype.names"
   ]
  },
  {
   "cell_type": "code",
   "execution_count": 105,
   "metadata": {},
   "outputs": [
    {
     "data": {
      "text/plain": [
       "(11983, 1)"
      ]
     },
     "execution_count": 105,
     "metadata": {},
     "output_type": "execute_result"
    }
   ],
   "source": [
    "mt[\"stat\"].shape"
   ]
  },
  {
   "cell_type": "code",
   "execution_count": 122,
   "metadata": {},
   "outputs": [
    {
     "data": {
      "text/plain": [
       "array([[  85],\n",
       "       [  86],\n",
       "       [  87],\n",
       "       [  88],\n",
       "       [  89],\n",
       "       [ 590],\n",
       "       [ 591],\n",
       "       [ 592],\n",
       "       [ 593],\n",
       "       [ 594],\n",
       "       [1095],\n",
       "       [1096],\n",
       "       [1097],\n",
       "       [1098],\n",
       "       [1099],\n",
       "       [1600],\n",
       "       [1601],\n",
       "       [1602],\n",
       "       [1603],\n",
       "       [1604],\n",
       "       [2107]], dtype=uint16)"
      ]
     },
     "execution_count": 122,
     "metadata": {},
     "output_type": "execute_result"
    }
   ],
   "source": [
    "mt[\"stat\"][0][\"ipix\"][0]"
   ]
  },
  {
   "cell_type": "code",
   "execution_count": 125,
   "metadata": {},
   "outputs": [
    {
     "data": {
      "text/plain": [
       "(array([[1],\n",
       "        [1],\n",
       "        [1],\n",
       "        [1],\n",
       "        [1],\n",
       "        [2],\n",
       "        [2],\n",
       "        [2],\n",
       "        [2],\n",
       "        [2],\n",
       "        [3],\n",
       "        [3],\n",
       "        [3],\n",
       "        [3],\n",
       "        [3],\n",
       "        [4],\n",
       "        [4],\n",
       "        [4],\n",
       "        [4],\n",
       "        [4],\n",
       "        [5]], dtype=uint8),\n",
       " array([[85],\n",
       "        [86],\n",
       "        [87],\n",
       "        [88],\n",
       "        [89],\n",
       "        [85],\n",
       "        [86],\n",
       "        [87],\n",
       "        [88],\n",
       "        [89],\n",
       "        [85],\n",
       "        [86],\n",
       "        [87],\n",
       "        [88],\n",
       "        [89],\n",
       "        [85],\n",
       "        [86],\n",
       "        [87],\n",
       "        [88],\n",
       "        [89],\n",
       "        [87]], dtype=uint8))"
      ]
     },
     "execution_count": 125,
     "metadata": {},
     "output_type": "execute_result"
    }
   ],
   "source": [
    "mt[\"stat\"][0][\"xpix\"][0], mt[\"stat\"][0][\"ypix\"][0]"
   ]
  },
  {
   "cell_type": "code",
   "execution_count": 121,
   "metadata": {},
   "outputs": [
    {
     "data": {
      "text/plain": [
       "array([[0.04830076],\n",
       "       [0.03870747],\n",
       "       [0.04248038],\n",
       "       [0.03726253],\n",
       "       [0.03969928],\n",
       "       [0.03535555],\n",
       "       [0.03185806],\n",
       "       [0.08425262],\n",
       "       [0.06053389],\n",
       "       [0.04283789],\n",
       "       [0.03332639],\n",
       "       [0.02374066],\n",
       "       [0.11862525],\n",
       "       [0.11202304],\n",
       "       [0.04071294],\n",
       "       [0.02536506],\n",
       "       [0.02788823],\n",
       "       [0.06226631],\n",
       "       [0.04234272],\n",
       "       [0.0263302 ],\n",
       "       [0.02609076]])"
      ]
     },
     "execution_count": 121,
     "metadata": {},
     "output_type": "execute_result"
    }
   ],
   "source": [
    "mt[\"stat\"][0][\"lam\"][0]"
   ]
  },
  {
   "cell_type": "code",
   "execution_count": 123,
   "metadata": {},
   "outputs": [
    {
     "data": {
      "text/plain": [
       "array([array([[21]], dtype=uint8)], dtype=object)"
      ]
     },
     "execution_count": 123,
     "metadata": {},
     "output_type": "execute_result"
    }
   ],
   "source": [
    "mt[\"stat\"][0][\"npix\"]"
   ]
  },
  {
   "cell_type": "code",
   "execution_count": 124,
   "metadata": {},
   "outputs": [
    {
     "data": {
      "text/plain": [
       "array([array([[87,  3]], dtype=uint8)], dtype=object)"
      ]
     },
     "execution_count": 124,
     "metadata": {},
     "output_type": "execute_result"
    }
   ],
   "source": [
    "mt[\"stat\"][0][\"med\"]"
   ]
  },
  {
   "cell_type": "markdown",
   "metadata": {},
   "source": [
    "### db contains some metadata I believe - not super useful right now"
   ]
  },
  {
   "cell_type": "code",
   "execution_count": 95,
   "metadata": {},
   "outputs": [
    {
     "name": "stdout",
     "output_type": "stream",
     "text": [
      "mouse_name - [[array(['M150824_MP019'], dtype='<U13')]]\n",
      "mouse_type - [[array(['RASGRF_G6s'], dtype='<U10')]]\n",
      "date - [[array(['2016-04-05'], dtype='<U10')]]\n",
      "expts - [[array([[ 7,  8,  9, 11]], dtype=uint8)]]\n",
      "nplanes - [[array([[10]], dtype=uint8)]]\n",
      "zoom - [[array([[1]], dtype=uint8)]]\n",
      "expt_name - [[array([[array(['spont_gray'], dtype='<U10'),\n",
      "          array(['spont_gray'], dtype='<U10'),\n",
      "          array(['spont_gray'], dtype='<U10'),\n",
      "          array(['spont_gray'], dtype='<U10')]], dtype=object)]]\n",
      "comments - [[array(['pupil and face processed'], dtype='<U24')]]\n",
      "nchannels - [[array([], shape=(1, 0), dtype=float64)]]\n",
      "expred - [[array([], shape=(1, 0), dtype=float64)]]\n",
      "nchannels_red - [[array([], shape=(1, 0), dtype=float64)]]\n",
      "badframes0 - [[array([], shape=(1, 0), dtype=float64)]]\n",
      "Zexpt - [[array([], shape=(1, 0), dtype=float64)]]\n",
      "Zplanes - [[array([], shape=(1, 0), dtype=float64)]]\n",
      "Zchannels - [[array([], shape=(1, 0), dtype=float64)]]\n",
      "Zzoom - [[array([], shape=(1, 0), dtype=float64)]]\n"
     ]
    }
   ],
   "source": [
    "for name in mt['db'].dtype.names:\n",
    "    print(f\"{name} - {mt['db'][name]}\")"
   ]
  },
  {
   "cell_type": "markdown",
   "metadata": {},
   "source": [
    "# Understanding the content of dbspont.mat"
   ]
  },
  {
   "cell_type": "markdown",
   "metadata": {},
   "source": [
    "### Seems to contain the metadata information; not useful. I am guessing it will be similar for dbori32 and dbspontsim as well so not loading them."
   ]
  },
  {
   "cell_type": "code",
   "execution_count": 127,
   "metadata": {},
   "outputs": [
    {
     "data": {
      "text/plain": [
       "{'__header__': b'MATLAB 5.0 MAT-file, Platform: GLNXA64, Created on: Mon Apr 16 12:10:06 2018',\n",
       " '__version__': '1.0',\n",
       " '__globals__': [],\n",
       " 'db': array([[(array(['M150824_MP019'], dtype='<U13'), array(['RASGRF_G6s'], dtype='<U10'), array(['2016-04-05'], dtype='<U10'), array([[ 7,  8,  9, 11]], dtype=uint8), array([[10]], dtype=uint8), array([[1]], dtype=uint8), array([[array(['spont_gray'], dtype='<U10'),\n",
       "                 array(['spont_gray'], dtype='<U10'),\n",
       "                 array(['spont_gray'], dtype='<U10'),\n",
       "                 array(['spont_gray'], dtype='<U10')]], dtype=object), array(['pupil and face processed'], dtype='<U24'), array([], shape=(1, 0), dtype=float64), array([], shape=(1, 0), dtype=float64), array([], shape=(1, 0), dtype=float64), array([], shape=(1, 0), dtype=float64), array([], shape=(1, 0), dtype=float64), array([], shape=(1, 0), dtype=float64), array([], shape=(1, 0), dtype=float64), array([], shape=(1, 0), dtype=float64)),\n",
       "         (array(['M160907_MP028'], dtype='<U13'), array(['GAD_G6s'], dtype='<U7'), array(['2016-09-26'], dtype='<U10'), array([[2, 3, 4]], dtype=uint8), array([[12]], dtype=uint8), array([[1.2]]), array([[array(['spont_gray'], dtype='<U10'),\n",
       "                 array(['spont_gray'], dtype='<U10'),\n",
       "                 array(['spont_gray'], dtype='<U10')]], dtype=object), array(['pupil and face processed'], dtype='<U24'), array([], shape=(1, 0), dtype=float64), array([[5]], dtype=uint8), array([[2]], dtype=uint8), array([], shape=(1, 0), dtype=float64), array([], shape=(1, 0), dtype=float64), array([], shape=(1, 0), dtype=float64), array([], shape=(1, 0), dtype=float64), array([], shape=(1, 0), dtype=float64)),\n",
       "         (array(['M160825_MP027'], dtype='<U13'), array(['EMX_G6s'], dtype='<U7'), array(['2016-12-12'], dtype='<U10'), array([[1]], dtype=uint8), array([[12]], dtype=uint8), array([[1.2]]), array([[array(['spont_black'], dtype='<U11')]], dtype=object), array(['pupil and face processed'], dtype='<U24'), array([], shape=(0, 0), dtype=uint8), array([], shape=(0, 0), dtype=uint8), array([], shape=(0, 0), dtype=uint8), array([], shape=(0, 0), dtype=uint8), array([], shape=(0, 0), dtype=uint8), array([], shape=(0, 0), dtype=uint8), array([], shape=(0, 0), dtype=uint8), array([], shape=(0, 0), dtype=uint8)),\n",
       "         (array(['M161025_MP030'], dtype='<U13'), array(['TETO_G6s'], dtype='<U8'), array(['2016-11-20'], dtype='<U10'), array([[2]], dtype=uint8), array([[12]], dtype=uint8), array([], shape=(1, 0), dtype=float64), array([[array(['spont_black'], dtype='<U11')]], dtype=object), array(['pupil and face processed'], dtype='<U24'), array([], shape=(1, 0), dtype=float64), array([], shape=(1, 0), dtype=float64), array([], shape=(1, 0), dtype=float64), array([], shape=(1, 0), dtype=float64), array([], shape=(1, 0), dtype=float64), array([], shape=(1, 0), dtype=float64), array([], shape=(1, 0), dtype=float64), array([], shape=(1, 0), dtype=float64)),\n",
       "         (array(['M161025_MP030'], dtype='<U13'), array(['TETO_G6s'], dtype='<U8'), array(['2017-06-16'], dtype='<U10'), array([[3, 4]], dtype=uint8), array([[12]], dtype=uint8), array([[1]], dtype=uint8), array([[array(['spont_gray'], dtype='<U10'),\n",
       "                 array(['spont_gray'], dtype='<U10')]], dtype=object), array([], shape=(1, 0), dtype=float64), array([], shape=(1, 0), dtype=float64), array([], shape=(1, 0), dtype=float64), array([], shape=(1, 0), dtype=float64), array([], shape=(1, 0), dtype=float64), array([[5]], dtype=uint8), array([[200]], dtype=uint8), array([[1]], dtype=uint8), array([[1]], dtype=uint8)),\n",
       "         (array(['M161025_MP030'], dtype='<U13'), array(['TETO_G6s'], dtype='<U8'), array(['2017-06-23'], dtype='<U10'), array([[2]], dtype=uint8), array([[12]], dtype=uint8), array([[1]], dtype=uint8), array([[array(['spont_black'], dtype='<U11')]], dtype=object), array([], shape=(1, 0), dtype=float64), array([], shape=(1, 0), dtype=float64), array([], shape=(1, 0), dtype=float64), array([], shape=(1, 0), dtype=float64), array([], shape=(1, 0), dtype=float64), array([], shape=(1, 0), dtype=float64), array([], shape=(1, 0), dtype=float64), array([], shape=(1, 0), dtype=float64), array([], shape=(1, 0), dtype=float64)),\n",
       "         (array(['M170714_MP032'], dtype='<U13'), array(['GADxtdTomato'], dtype='<U12'), array(['2017-08-04'], dtype='<U10'), array([[1, 2]], dtype=uint8), array([[12]], dtype=uint8), array([[1.2]]), array([[array(['spont_black'], dtype='<U11'),\n",
       "                 array(['spont_black'], dtype='<U11')]], dtype=object), array([], shape=(1, 0), dtype=float64), array([], shape=(1, 0), dtype=float64), array([[1, 2]], dtype=uint8), array([[2]], dtype=uint8), array([], shape=(0, 0), dtype=uint8), array([[5]], dtype=uint8), array([[180]], dtype=uint8), array([[2]], dtype=uint8), array([[1.2]])),\n",
       "         (array(['M170717_MP033'], dtype='<U13'), array(['tetO'], dtype='<U4'), array(['2017-08-18'], dtype='<U10'), array([[1, 2]], dtype=uint8), array([[12]], dtype=uint8), array([[1.2]]), array([[array(['spont_black'], dtype='<U11'),\n",
       "                 array(['spont_black'], dtype='<U11')]], dtype=object), array([], shape=(1, 0), dtype=float64), array([], shape=(1, 0), dtype=float64), array([], shape=(1, 0), dtype=float64), array([], shape=(1, 0), dtype=float64), array([], shape=(1, 0), dtype=float64), array([[3]], dtype=uint8), array([[180]], dtype=uint8), array([[1]], dtype=uint8), array([[1.2]])),\n",
       "         (array(['M170717_MP034'], dtype='<U13'), array(['tetO'], dtype='<U4'), array(['2017-08-25'], dtype='<U10'), array([[3, 4]], dtype=uint8), array([[12]], dtype=uint8), array([[1]], dtype=uint8), array([[array(['spont_black'], dtype='<U11'),\n",
       "                 array(['spont_black'], dtype='<U11')]], dtype=object), array([], shape=(1, 0), dtype=float64), array([], shape=(1, 0), dtype=float64), array([], shape=(1, 0), dtype=float64), array([], shape=(1, 0), dtype=float64), array([], shape=(1, 0), dtype=float64), array([], shape=(1, 0), dtype=float64), array([], shape=(1, 0), dtype=float64), array([], shape=(1, 0), dtype=float64), array([], shape=(1, 0), dtype=float64))]],\n",
       "       dtype=[('mouse_name', 'O'), ('mouse_type', 'O'), ('date', 'O'), ('expts', 'O'), ('nplanes', 'O'), ('zoom', 'O'), ('expt_name', 'O'), ('comments', 'O'), ('nchannels', 'O'), ('expred', 'O'), ('nchannels_red', 'O'), ('badframes0', 'O'), ('Zexpt', 'O'), ('Zplanes', 'O'), ('Zchannels', 'O'), ('Zzoom', 'O')])}"
      ]
     },
     "execution_count": 127,
     "metadata": {},
     "output_type": "execute_result"
    }
   ],
   "source": [
    "dbspontmt = sio.loadmat(f'{datafolder}dbspont.mat')\n",
    "dbspontmt"
   ]
  },
  {
   "cell_type": "markdown",
   "metadata": {},
   "source": [
    "# Understanding the structure and contents of stimspont_*.mat"
   ]
  },
  {
   "cell_type": "code",
   "execution_count": 129,
   "metadata": {},
   "outputs": [
    {
     "data": {
      "text/plain": [
       "dict_keys(['__header__', '__version__', '__globals__', 'Fsp', 'beh', 'med', 'stat', 'stim', 'stimtpt'])"
      ]
     },
     "execution_count": 129,
     "metadata": {},
     "output_type": "execute_result"
    }
   ],
   "source": [
    "stimspontmt = sio.loadmat(f'{datafolder}stimspont_M150824_MP019_20160323.mat')\n",
    "stimspontmt.keys()"
   ]
  },
  {
   "cell_type": "markdown",
   "metadata": {},
   "source": [
    "### Seems very similar to spont mat files except for the stim and stimtpt keys"
   ]
  },
  {
   "cell_type": "code",
   "execution_count": 134,
   "metadata": {},
   "outputs": [
    {
     "data": {
      "text/plain": [
       "('resp', 'istim', 'stimtimes')"
      ]
     },
     "execution_count": 134,
     "metadata": {},
     "output_type": "execute_result"
    }
   ],
   "source": [
    "stim = stimspontmt[\"stim\"]\n",
    "stim.dtype.names"
   ]
  },
  {
   "cell_type": "code",
   "execution_count": 176,
   "metadata": {},
   "outputs": [
    {
     "data": {
      "text/plain": [
       "(3000, 11698)"
      ]
     },
     "execution_count": 176,
     "metadata": {},
     "output_type": "execute_result"
    }
   ],
   "source": [
    "stim[0][\"resp\"][0].shape"
   ]
  },
  {
   "cell_type": "code",
   "execution_count": 178,
   "metadata": {},
   "outputs": [
    {
     "data": {
      "text/plain": [
       "(3000, 1)"
      ]
     },
     "execution_count": 178,
     "metadata": {},
     "output_type": "execute_result"
    }
   ],
   "source": [
    "stim[0][\"istim\"][0].shape"
   ]
  },
  {
   "cell_type": "code",
   "execution_count": 193,
   "metadata": {},
   "outputs": [
    {
     "data": {
      "text/plain": [
       "((10,), (26, 1), (1, 1000))"
      ]
     },
     "execution_count": 193,
     "metadata": {},
     "output_type": "execute_result"
    }
   ],
   "source": [
    "stim[0][\"stimtimes\"][0][0].shape, stim[0][\"stimtimes\"][0][0][5].shape, stim[0][\"stimtimes\"][0][0][5][19][0].shape"
   ]
  },
  {
   "cell_type": "code",
   "execution_count": 169,
   "metadata": {},
   "outputs": [
    {
     "data": {
      "text/plain": [
       "array([[0],\n",
       "       [0],\n",
       "       [0],\n",
       "       ...,\n",
       "       [0],\n",
       "       [0],\n",
       "       [0]], dtype=uint8)"
      ]
     },
     "execution_count": 169,
     "metadata": {},
     "output_type": "execute_result"
    }
   ],
   "source": [
    "stimtpt = stimspontmt[\"stimtpt\"]\n",
    "stimtpt"
   ]
  },
  {
   "cell_type": "code",
   "execution_count": 174,
   "metadata": {},
   "outputs": [
    {
     "data": {
      "text/plain": [
       "(array([0, 1], dtype=uint8), (23544, 1))"
      ]
     },
     "execution_count": 174,
     "metadata": {},
     "output_type": "execute_result"
    }
   ],
   "source": [
    "np.unique(stimtpt.flatten()), stimtpt.shape"
   ]
  }
 ],
 "metadata": {
  "kernelspec": {
   "display_name": "neuro4ml",
   "language": "python",
   "name": "python3"
  },
  "language_info": {
   "codemirror_mode": {
    "name": "ipython",
    "version": 3
   },
   "file_extension": ".py",
   "mimetype": "text/x-python",
   "name": "python",
   "nbconvert_exporter": "python",
   "pygments_lexer": "ipython3",
   "version": "3.9.19"
  }
 },
 "nbformat": 4,
 "nbformat_minor": 2
}
